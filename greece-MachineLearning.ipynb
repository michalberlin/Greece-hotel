{
 "cells": [
  {
   "cell_type": "code",
   "execution_count": 1,
   "id": "4c57e8b9",
   "metadata": {},
   "outputs": [],
   "source": [
    "import pandas as pd\n",
    "from sklearn.model_selection import train_test_split\n",
    "from sklearn.metrics import mean_absolute_error, mean_squared_error, r2_score\n",
    "from sklearn.linear_model import LinearRegression\n",
    "from sklearn.tree import DecisionTreeRegressor\n",
    "import matplotlib.pyplot as plt"
   ]
  },
  {
   "cell_type": "code",
   "execution_count": 2,
   "id": "492a39cc",
   "metadata": {},
   "outputs": [],
   "source": [
    "df = pd.read_csv('finished_data.csv')"
   ]
  },
  {
   "cell_type": "code",
   "execution_count": 3,
   "id": "cea6bc3f",
   "metadata": {},
   "outputs": [],
   "source": [
    "df = df.drop('Unnamed: 0', axis=1)"
   ]
  },
  {
   "cell_type": "code",
   "execution_count": 4,
   "id": "126ea70e",
   "metadata": {},
   "outputs": [
    {
     "data": {
      "text/html": [
       "<div>\n",
       "<style scoped>\n",
       "    .dataframe tbody tr th:only-of-type {\n",
       "        vertical-align: middle;\n",
       "    }\n",
       "\n",
       "    .dataframe tbody tr th {\n",
       "        vertical-align: top;\n",
       "    }\n",
       "\n",
       "    .dataframe thead th {\n",
       "        text-align: right;\n",
       "    }\n",
       "</style>\n",
       "<table border=\"1\" class=\"dataframe\">\n",
       "  <thead>\n",
       "    <tr style=\"text-align: right;\">\n",
       "      <th></th>\n",
       "      <th>Hotel name</th>\n",
       "      <th>Hotel price</th>\n",
       "      <th>Reviews count</th>\n",
       "      <th>Location rating</th>\n",
       "      <th>Cleanliness rating</th>\n",
       "      <th>Service rating</th>\n",
       "      <th>Value rating</th>\n",
       "      <th>Pool_numerical</th>\n",
       "      <th>Free_parking_numerical</th>\n",
       "      <th>free_wifi_numerical</th>\n",
       "      <th>...</th>\n",
       "      <th>safe numerical</th>\n",
       "      <th>airport numerical</th>\n",
       "      <th>taxi numerical</th>\n",
       "      <th>pets allowed numerical</th>\n",
       "      <th>private balcony numerical</th>\n",
       "      <th>ocean view numerical</th>\n",
       "      <th>spa numerical</th>\n",
       "      <th>number of restaurants</th>\n",
       "      <th>number of attractions</th>\n",
       "      <th>rating</th>\n",
       "    </tr>\n",
       "  </thead>\n",
       "  <tbody>\n",
       "    <tr>\n",
       "      <th>0</th>\n",
       "      <td>Tsokas Hotel Apartments</td>\n",
       "      <td>1662.51205</td>\n",
       "      <td>114.0</td>\n",
       "      <td>4.5</td>\n",
       "      <td>4.7</td>\n",
       "      <td>4.6</td>\n",
       "      <td>4.7</td>\n",
       "      <td>1</td>\n",
       "      <td>0</td>\n",
       "      <td>0</td>\n",
       "      <td>...</td>\n",
       "      <td>0</td>\n",
       "      <td>0</td>\n",
       "      <td>0</td>\n",
       "      <td>0</td>\n",
       "      <td>0</td>\n",
       "      <td>0</td>\n",
       "      <td>0</td>\n",
       "      <td>20</td>\n",
       "      <td>2</td>\n",
       "      <td>4.5</td>\n",
       "    </tr>\n",
       "    <tr>\n",
       "      <th>1</th>\n",
       "      <td>Nano Suites</td>\n",
       "      <td>436.00000</td>\n",
       "      <td>44.0</td>\n",
       "      <td>4.8</td>\n",
       "      <td>5.0</td>\n",
       "      <td>4.8</td>\n",
       "      <td>4.4</td>\n",
       "      <td>1</td>\n",
       "      <td>0</td>\n",
       "      <td>0</td>\n",
       "      <td>...</td>\n",
       "      <td>0</td>\n",
       "      <td>0</td>\n",
       "      <td>0</td>\n",
       "      <td>0</td>\n",
       "      <td>0</td>\n",
       "      <td>0</td>\n",
       "      <td>0</td>\n",
       "      <td>30</td>\n",
       "      <td>8</td>\n",
       "      <td>5.0</td>\n",
       "    </tr>\n",
       "    <tr>\n",
       "      <th>2</th>\n",
       "      <td>Santorini Mesotopos</td>\n",
       "      <td>449.00000</td>\n",
       "      <td>306.0</td>\n",
       "      <td>4.3</td>\n",
       "      <td>4.5</td>\n",
       "      <td>4.4</td>\n",
       "      <td>4.2</td>\n",
       "      <td>1</td>\n",
       "      <td>0</td>\n",
       "      <td>0</td>\n",
       "      <td>...</td>\n",
       "      <td>0</td>\n",
       "      <td>0</td>\n",
       "      <td>0</td>\n",
       "      <td>0</td>\n",
       "      <td>0</td>\n",
       "      <td>0</td>\n",
       "      <td>0</td>\n",
       "      <td>23</td>\n",
       "      <td>6</td>\n",
       "      <td>4.5</td>\n",
       "    </tr>\n",
       "    <tr>\n",
       "      <th>3</th>\n",
       "      <td>Hotel Off</td>\n",
       "      <td>549.00000</td>\n",
       "      <td>97.0</td>\n",
       "      <td>4.8</td>\n",
       "      <td>5.0</td>\n",
       "      <td>4.8</td>\n",
       "      <td>4.5</td>\n",
       "      <td>1</td>\n",
       "      <td>0</td>\n",
       "      <td>0</td>\n",
       "      <td>...</td>\n",
       "      <td>0</td>\n",
       "      <td>0</td>\n",
       "      <td>0</td>\n",
       "      <td>0</td>\n",
       "      <td>0</td>\n",
       "      <td>0</td>\n",
       "      <td>0</td>\n",
       "      <td>163</td>\n",
       "      <td>96</td>\n",
       "      <td>4.5</td>\n",
       "    </tr>\n",
       "    <tr>\n",
       "      <th>4</th>\n",
       "      <td>Lindos Breeze Beach Hotel</td>\n",
       "      <td>1662.51205</td>\n",
       "      <td>138.0</td>\n",
       "      <td>4.2</td>\n",
       "      <td>4.3</td>\n",
       "      <td>4.5</td>\n",
       "      <td>4.5</td>\n",
       "      <td>1</td>\n",
       "      <td>1</td>\n",
       "      <td>1</td>\n",
       "      <td>...</td>\n",
       "      <td>1</td>\n",
       "      <td>1</td>\n",
       "      <td>0</td>\n",
       "      <td>0</td>\n",
       "      <td>1</td>\n",
       "      <td>1</td>\n",
       "      <td>1</td>\n",
       "      <td>120</td>\n",
       "      <td>44</td>\n",
       "      <td>4.5</td>\n",
       "    </tr>\n",
       "  </tbody>\n",
       "</table>\n",
       "<p>5 rows × 27 columns</p>\n",
       "</div>"
      ],
      "text/plain": [
       "                  Hotel name  Hotel price  Reviews count  Location rating  \\\n",
       "0    Tsokas Hotel Apartments   1662.51205          114.0              4.5   \n",
       "1                Nano Suites    436.00000           44.0              4.8   \n",
       "2        Santorini Mesotopos    449.00000          306.0              4.3   \n",
       "3                  Hotel Off    549.00000           97.0              4.8   \n",
       "4  Lindos Breeze Beach Hotel   1662.51205          138.0              4.2   \n",
       "\n",
       "   Cleanliness rating  Service rating  Value rating  Pool_numerical  \\\n",
       "0                 4.7             4.6           4.7               1   \n",
       "1                 5.0             4.8           4.4               1   \n",
       "2                 4.5             4.4           4.2               1   \n",
       "3                 5.0             4.8           4.5               1   \n",
       "4                 4.3             4.5           4.5               1   \n",
       "\n",
       "   Free_parking_numerical  free_wifi_numerical  ...  safe numerical  \\\n",
       "0                       0                    0  ...               0   \n",
       "1                       0                    0  ...               0   \n",
       "2                       0                    0  ...               0   \n",
       "3                       0                    0  ...               0   \n",
       "4                       1                    1  ...               1   \n",
       "\n",
       "   airport numerical  taxi numerical  pets allowed numerical  \\\n",
       "0                  0               0                       0   \n",
       "1                  0               0                       0   \n",
       "2                  0               0                       0   \n",
       "3                  0               0                       0   \n",
       "4                  1               0                       0   \n",
       "\n",
       "   private balcony numerical  ocean view numerical  spa numerical  \\\n",
       "0                          0                     0              0   \n",
       "1                          0                     0              0   \n",
       "2                          0                     0              0   \n",
       "3                          0                     0              0   \n",
       "4                          1                     1              1   \n",
       "\n",
       "   number of restaurants  number of attractions  rating  \n",
       "0                     20                      2     4.5  \n",
       "1                     30                      8     5.0  \n",
       "2                     23                      6     4.5  \n",
       "3                    163                     96     4.5  \n",
       "4                    120                     44     4.5  \n",
       "\n",
       "[5 rows x 27 columns]"
      ]
     },
     "execution_count": 4,
     "metadata": {},
     "output_type": "execute_result"
    }
   ],
   "source": [
    "df.head()"
   ]
  },
  {
   "cell_type": "markdown",
   "id": "47a4ad2a",
   "metadata": {},
   "source": [
    "Dropping the hotel name column because it won't benefit the model.\n"
   ]
  },
  {
   "cell_type": "code",
   "execution_count": 5,
   "id": "8e6c0d13",
   "metadata": {},
   "outputs": [],
   "source": [
    "df = df.drop('Hotel name', axis = 1)"
   ]
  },
  {
   "cell_type": "markdown",
   "id": "9c1fce94",
   "metadata": {},
   "source": [
    "Split the data into features (X) and target (y)."
   ]
  },
  {
   "cell_type": "code",
   "execution_count": 6,
   "id": "e581ae32",
   "metadata": {},
   "outputs": [],
   "source": [
    "X = df.drop('rating', axis=1)\n",
    "y = df['rating']"
   ]
  },
  {
   "cell_type": "markdown",
   "id": "9ffbe0f2",
   "metadata": {},
   "source": [
    "Split the data into training and testing sets.\n",
    "I decided to split into 80% and 20% because this is the more common division."
   ]
  },
  {
   "cell_type": "code",
   "execution_count": 7,
   "id": "ddf4a981",
   "metadata": {},
   "outputs": [],
   "source": [
    "X_train, X_test, y_train, y_test = train_test_split(X, y, test_size=0.2, random_state=42)"
   ]
  },
  {
   "cell_type": "markdown",
   "id": "c029c249",
   "metadata": {},
   "source": [
    "I want to test different models in order to choose the model that brings the best results"
   ]
  },
  {
   "cell_type": "markdown",
   "id": "78eac7ce",
   "metadata": {},
   "source": [
    "## Linear Regression Model:"
   ]
  },
  {
   "cell_type": "markdown",
   "id": "57506d79",
   "metadata": {},
   "source": [
    "Now I will examine the model by different metrics."
   ]
  },
  {
   "cell_type": "code",
   "execution_count": 8,
   "id": "b464556c",
   "metadata": {},
   "outputs": [],
   "source": [
    "linear_regression = LinearRegression()\n",
    "linear_regression.fit(X_train, y_train)\n",
    "linear_y_prediction = linear_regression.predict(X_test)"
   ]
  },
  {
   "cell_type": "code",
   "execution_count": 9,
   "id": "52349540",
   "metadata": {},
   "outputs": [],
   "source": [
    "mse_linear = mean_squared_error(y_test, linear_y_prediction)\n",
    "mae_linear = mean_absolute_error(y_test, linear_y_prediction)\n",
    "r2_linear = r2_score(y_test, linear_y_prediction)"
   ]
  },
  {
   "cell_type": "code",
   "execution_count": 10,
   "id": "abde4af3",
   "metadata": {},
   "outputs": [
    {
     "name": "stdout",
     "output_type": "stream",
     "text": [
      "Linear Regression results:\n",
      "MSE result: 0.03302924528557546\n",
      "MAE result: 0.14710895351943035\n",
      "R2 result: 0.6715627900823058\n"
     ]
    }
   ],
   "source": [
    "print('Linear Regression results:')\n",
    "print('MSE result:', mse_linear)\n",
    "print('MAE result:', mae_linear)\n",
    "print('R2 result:', r2_linear)"
   ]
  },
  {
   "cell_type": "markdown",
   "id": "07d55534",
   "metadata": {},
   "source": [
    "As we can see, the average score is 67%\n",
    "\n",
    "Now, let's try another model and see its results."
   ]
  },
  {
   "cell_type": "markdown",
   "id": "975ebd71",
   "metadata": {},
   "source": [
    "## Decision Tree Regressor model"
   ]
  },
  {
   "cell_type": "markdown",
   "id": "a5de1393",
   "metadata": {},
   "source": [
    "Now I will examine the model by different metrics."
   ]
  },
  {
   "cell_type": "code",
   "execution_count": 11,
   "id": "68b19679",
   "metadata": {},
   "outputs": [],
   "source": [
    "dt_model = DecisionTreeRegressor()\n",
    "dt_model.fit(X_train, y_train)\n",
    "y_pred_dt = dt_model.predict(X_test)"
   ]
  },
  {
   "cell_type": "code",
   "execution_count": 12,
   "id": "faf14249",
   "metadata": {},
   "outputs": [],
   "source": [
    "mae_tree = mean_absolute_error(y_test, y_pred_dt)\n",
    "mse_tree = mean_squared_error(y_test, y_pred_dt)\n",
    "r2_tree = r2_score(y_test, y_pred_dt)"
   ]
  },
  {
   "cell_type": "code",
   "execution_count": 13,
   "id": "10bfb1f1",
   "metadata": {},
   "outputs": [
    {
     "name": "stdout",
     "output_type": "stream",
     "text": [
      "Decision Tree results:\n",
      "Decision Tree MAE: 0.04780361757105943\n",
      "Decision Tree MSE: 0.023901808785529714\n",
      "Decision Tree R2 Score: 0.7623244696743352\n"
     ]
    }
   ],
   "source": [
    "print('Decision Tree results:')\n",
    "print('Decision Tree MAE:', mae_tree)\n",
    "print('Decision Tree MSE:', mse_tree)\n",
    "print('Decision Tree R2 Score:', r2_tree)"
   ]
  },
  {
   "cell_type": "markdown",
   "id": "5c5b5fcf",
   "metadata": {},
   "source": [
    "### Conclusion:\n",
    "As can be observed, the Decision Tree Regressor model provides better performance for my data, achieving 73% accuracy rate.\n",
    "\n",
    "Let's show a scatterplot that compares between the actual values against the predicted ones."
   ]
  },
  {
   "cell_type": "code",
   "execution_count": 14,
   "id": "59984a20",
   "metadata": {},
   "outputs": [
    {
     "data": {
      "image/png": "[encoded data removed]",
      "text/plain": [
       "<Figure size 700x400 with 1 Axes>"
      ]
     },
     "metadata": {},
     "output_type": "display_data"
    }
   ],
   "source": [
    "plt.figure(figsize=(7, 4))\n",
    "plt.scatter(y_test, y_pred_dt)\n",
    "plt.xlabel('Actual Ratings')\n",
    "plt.ylabel('Predicted Ratings')\n",
    "plt.title('Actual vs Predicted ratings')\n",
    "plt.show()"
   ]
  }
 ],
 "metadata": {
  "kernelspec": {
   "display_name": "Python 3 (ipykernel)",
   "language": "python",
   "name": "python3"
  },
  "language_info": {
   "codemirror_mode": {
    "name": "ipython",
    "version": 3
   },
   "file_extension": ".py",
   "mimetype": "text/x-python",
   "name": "python",
   "nbconvert_exporter": "python",
   "pygments_lexer": "ipython3",
   "version": "3.9.13"
  }
 },
 "nbformat": 4,
 "nbformat_minor": 5
}
